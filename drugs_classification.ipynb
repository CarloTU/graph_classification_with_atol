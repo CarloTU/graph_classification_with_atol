{
 "cells": [
  {
   "cell_type": "code",
   "execution_count": 101,
   "metadata": {},
   "outputs": [
    {
     "name": "stdout",
     "output_type": "stream",
     "text": [
      "The autoreload extension is already loaded. To reload it, use:\n",
      "  %reload_ext autoreload\n"
     ]
    }
   ],
   "source": [
    "%matplotlib inline\n",
    "import matplotlib.pyplot as plt\n",
    "import sys \n",
    "from atol import Atol\n",
    "from heat_kernel_homology import GeneralFiltrationGraphHomology\n",
    "import numpy as np\n",
    "import networkx as nx\n",
    "import pandas as pd\n",
    "from pysmiles import read_smiles\n",
    "\n",
    "from sklearn.model_selection import train_test_split\n",
    "from sklearn.ensemble import GradientBoostingClassifier\n",
    "from sklearn.model_selection import cross_val_score\n",
    "from sklearn.pipeline import Pipeline\n",
    "from sklearn.ensemble import RandomForestClassifier\n",
    "from sklearn.metrics import roc_auc_score\n",
    "\n",
    "from networkx.convert_matrix import to_numpy_matrix\n",
    "from utils import blockPrinting, plot_diagram\n",
    "\n",
    "%load_ext autoreload\n",
    "%autoreload 2"
   ]
  },
  {
   "cell_type": "markdown",
   "metadata": {},
   "source": [
    "## Data load"
   ]
  },
  {
   "cell_type": "markdown",
   "metadata": {},
   "source": [
    "We use the ClinTox dataset which contains the data of drugs approved by the FDA and those that have failed clinical trials for toxicity reasons."
   ]
  },
  {
   "cell_type": "code",
   "execution_count": 2,
   "metadata": {},
   "outputs": [],
   "source": [
    "df = pd.read_csv('./data/clintox/clintox.csv')"
   ]
  },
  {
   "cell_type": "code",
   "execution_count": 3,
   "metadata": {},
   "outputs": [
    {
     "data": {
      "text/html": [
       "<div>\n",
       "<style scoped>\n",
       "    .dataframe tbody tr th:only-of-type {\n",
       "        vertical-align: middle;\n",
       "    }\n",
       "\n",
       "    .dataframe tbody tr th {\n",
       "        vertical-align: top;\n",
       "    }\n",
       "\n",
       "    .dataframe thead th {\n",
       "        text-align: right;\n",
       "    }\n",
       "</style>\n",
       "<table border=\"1\" class=\"dataframe\">\n",
       "  <thead>\n",
       "    <tr style=\"text-align: right;\">\n",
       "      <th></th>\n",
       "      <th>smiles</th>\n",
       "      <th>FDA_APPROVED</th>\n",
       "      <th>CT_TOX</th>\n",
       "    </tr>\n",
       "  </thead>\n",
       "  <tbody>\n",
       "    <tr>\n",
       "      <th>0</th>\n",
       "      <td>*C(=O)[C@H](CCCCNC(=O)OCCOC)NC(=O)OCCOC</td>\n",
       "      <td>1</td>\n",
       "      <td>0</td>\n",
       "    </tr>\n",
       "    <tr>\n",
       "      <th>1</th>\n",
       "      <td>[C@@H]1([C@@H]([C@@H]([C@H]([C@@H]([C@@H]1Cl)C...</td>\n",
       "      <td>1</td>\n",
       "      <td>0</td>\n",
       "    </tr>\n",
       "    <tr>\n",
       "      <th>2</th>\n",
       "      <td>[C@H]([C@@H]([C@@H](C(=O)[O-])O)O)([C@H](C(=O)...</td>\n",
       "      <td>1</td>\n",
       "      <td>0</td>\n",
       "    </tr>\n",
       "    <tr>\n",
       "      <th>3</th>\n",
       "      <td>[H]/[NH+]=C(/C1=CC(=O)/C(=C\\C=c2ccc(=C([NH3+])...</td>\n",
       "      <td>1</td>\n",
       "      <td>0</td>\n",
       "    </tr>\n",
       "    <tr>\n",
       "      <th>4</th>\n",
       "      <td>[H]/[NH+]=C(\\N)/c1ccc(cc1)OCCCCCOc2ccc(cc2)/C(...</td>\n",
       "      <td>1</td>\n",
       "      <td>0</td>\n",
       "    </tr>\n",
       "  </tbody>\n",
       "</table>\n",
       "</div>"
      ],
      "text/plain": [
       "                                              smiles  FDA_APPROVED  CT_TOX\n",
       "0            *C(=O)[C@H](CCCCNC(=O)OCCOC)NC(=O)OCCOC             1       0\n",
       "1  [C@@H]1([C@@H]([C@@H]([C@H]([C@@H]([C@@H]1Cl)C...             1       0\n",
       "2  [C@H]([C@@H]([C@@H](C(=O)[O-])O)O)([C@H](C(=O)...             1       0\n",
       "3  [H]/[NH+]=C(/C1=CC(=O)/C(=C\\C=c2ccc(=C([NH3+])...             1       0\n",
       "4  [H]/[NH+]=C(\\N)/c1ccc(cc1)OCCCCCOc2ccc(cc2)/C(...             1       0"
      ]
     },
     "execution_count": 3,
     "metadata": {},
     "output_type": "execute_result"
    }
   ],
   "source": [
    "df.head()"
   ]
  },
  {
   "cell_type": "markdown",
   "metadata": {},
   "source": [
    "Smiles are a standard way of encoding chemical information into a string. For further information and for a dictionary of the characters used visit the following [link](https://en.wikipedia.org/wiki/Simplified_molecular-input_line-entry_system)."
   ]
  },
  {
   "cell_type": "markdown",
   "metadata": {},
   "source": [
    "## Smiles converted into Graph"
   ]
  },
  {
   "cell_type": "markdown",
   "metadata": {},
   "source": [
    "We are going to analyze the problem in two different ways: in the first case we threat the **drugs molecules** as **graphs** (each atom is a node and the edges corresponds to chemical bounds), considering only the structure of the molecules (the information about the node elements is not considered in this part); in the second example we also add chemical information as *composition* and *stereoisomerism*."
   ]
  },
  {
   "cell_type": "code",
   "execution_count": 4,
   "metadata": {},
   "outputs": [],
   "source": [
    "@blockPrinting\n",
    "def convert_smiles(smiles):\n",
    "    return [to_numpy_matrix(read_smiles(smile, explicit_hydrogen=False, \n",
    "                                        zero_order_bonds=True, \n",
    "                                        reinterpret_aromatic=True)) \n",
    "            for smile in smiles]"
   ]
  },
  {
   "cell_type": "code",
   "execution_count": 5,
   "metadata": {},
   "outputs": [],
   "source": [
    "df['smiles_graph'] = convert_smiles(df.smiles)"
   ]
  },
  {
   "cell_type": "code",
   "execution_count": 6,
   "metadata": {
    "scrolled": true
   },
   "outputs": [
    {
     "data": {
      "text/html": [
       "<div>\n",
       "<style scoped>\n",
       "    .dataframe tbody tr th:only-of-type {\n",
       "        vertical-align: middle;\n",
       "    }\n",
       "\n",
       "    .dataframe tbody tr th {\n",
       "        vertical-align: top;\n",
       "    }\n",
       "\n",
       "    .dataframe thead th {\n",
       "        text-align: right;\n",
       "    }\n",
       "</style>\n",
       "<table border=\"1\" class=\"dataframe\">\n",
       "  <thead>\n",
       "    <tr style=\"text-align: right;\">\n",
       "      <th></th>\n",
       "      <th>smiles</th>\n",
       "      <th>FDA_APPROVED</th>\n",
       "      <th>CT_TOX</th>\n",
       "      <th>smiles_graph</th>\n",
       "    </tr>\n",
       "  </thead>\n",
       "  <tbody>\n",
       "    <tr>\n",
       "      <th>0</th>\n",
       "      <td>*C(=O)[C@H](CCCCNC(=O)OCCOC)NC(=O)OCCOC</td>\n",
       "      <td>1</td>\n",
       "      <td>0</td>\n",
       "      <td>[[[[[0. 1. 0. 0. 0. 0. 0. 0. 0. 0. 0. 0. 0. 0....</td>\n",
       "    </tr>\n",
       "    <tr>\n",
       "      <th>1</th>\n",
       "      <td>[C@@H]1([C@@H]([C@@H]([C@H]([C@@H]([C@@H]1Cl)C...</td>\n",
       "      <td>1</td>\n",
       "      <td>0</td>\n",
       "      <td>[[[[[0. 1. 0. 0. 0. 1. 0. 0. 0. 0. 0. 1.]]]], ...</td>\n",
       "    </tr>\n",
       "    <tr>\n",
       "      <th>2</th>\n",
       "      <td>[C@H]([C@@H]([C@@H](C(=O)[O-])O)O)([C@H](C(=O)...</td>\n",
       "      <td>1</td>\n",
       "      <td>0</td>\n",
       "      <td>[[[[[0. 1. 0. 0. 0. 0. 0. 0. 1. 0. 0. 0. 0. 1....</td>\n",
       "    </tr>\n",
       "    <tr>\n",
       "      <th>3</th>\n",
       "      <td>[H]/[NH+]=C(/C1=CC(=O)/C(=C\\C=c2ccc(=C([NH3+])...</td>\n",
       "      <td>1</td>\n",
       "      <td>0</td>\n",
       "      <td>[[[[[0. 1. 0. 0. 0. 0. 0. 0. 0. 0. 0. 0. 0. 0....</td>\n",
       "    </tr>\n",
       "    <tr>\n",
       "      <th>4</th>\n",
       "      <td>[H]/[NH+]=C(\\N)/c1ccc(cc1)OCCCCCOc2ccc(cc2)/C(...</td>\n",
       "      <td>1</td>\n",
       "      <td>0</td>\n",
       "      <td>[[[[[0. 1. 0. 0. 0. 0. 0. 0. 0. 0. 0. 0. 0. 0....</td>\n",
       "    </tr>\n",
       "  </tbody>\n",
       "</table>\n",
       "</div>"
      ],
      "text/plain": [
       "                                              smiles  FDA_APPROVED  CT_TOX  \\\n",
       "0            *C(=O)[C@H](CCCCNC(=O)OCCOC)NC(=O)OCCOC             1       0   \n",
       "1  [C@@H]1([C@@H]([C@@H]([C@H]([C@@H]([C@@H]1Cl)C...             1       0   \n",
       "2  [C@H]([C@@H]([C@@H](C(=O)[O-])O)O)([C@H](C(=O)...             1       0   \n",
       "3  [H]/[NH+]=C(/C1=CC(=O)/C(=C\\C=c2ccc(=C([NH3+])...             1       0   \n",
       "4  [H]/[NH+]=C(\\N)/c1ccc(cc1)OCCCCCOc2ccc(cc2)/C(...             1       0   \n",
       "\n",
       "                                        smiles_graph  \n",
       "0  [[[[[0. 1. 0. 0. 0. 0. 0. 0. 0. 0. 0. 0. 0. 0....  \n",
       "1  [[[[[0. 1. 0. 0. 0. 1. 0. 0. 0. 0. 0. 1.]]]], ...  \n",
       "2  [[[[[0. 1. 0. 0. 0. 0. 0. 0. 1. 0. 0. 0. 0. 1....  \n",
       "3  [[[[[0. 1. 0. 0. 0. 0. 0. 0. 0. 0. 0. 0. 0. 0....  \n",
       "4  [[[[[0. 1. 0. 0. 0. 0. 0. 0. 0. 0. 0. 0. 0. 0....  "
      ]
     },
     "execution_count": 6,
     "metadata": {},
     "output_type": "execute_result"
    }
   ],
   "source": [
    "df.head()"
   ]
  },
  {
   "cell_type": "markdown",
   "metadata": {},
   "source": [
    "Here we show an example of conversion from **SMILES** to **graph**."
   ]
  },
  {
   "cell_type": "code",
   "execution_count": 67,
   "metadata": {},
   "outputs": [
    {
     "name": "stdout",
     "output_type": "stream",
     "text": [
      "I don't quite know how to handle stereo yet...\n",
      "*C(=O)[C@H](CCCCNC(=O)OCCOC)NC(=O)OCCOC\n"
     ]
    },
    {
     "data": {
      "image/png": "[encoded data removed]",
      "text/plain": [
       "<Figure size 432x288 with 1 Axes>"
      ]
     },
     "metadata": {},
     "output_type": "display_data"
    }
   ],
   "source": [
    "smile = df.smiles.iloc[0]\n",
    "graph = read_smiles(smile, explicit_hydrogen=False, zero_order_bonds=True, \n",
    "                    reinterpret_aromatic=True)\n",
    "print(smile)\n",
    "nx.draw(graph)"
   ]
  },
  {
   "cell_type": "markdown",
   "metadata": {},
   "source": [
    "## From Graph to diagrams with HKS"
   ]
  },
  {
   "cell_type": "markdown",
   "metadata": {},
   "source": [
    "From the graphs we compute persistence diagrams. The time parameter in the HKS algorithm can be consider as a kind of **scale** parameter!"
   ]
  },
  {
   "cell_type": "code",
   "execution_count": 46,
   "metadata": {},
   "outputs": [],
   "source": [
    "hkh = GeneralFiltrationGraphHomology(time=.1, n_jobs=-1)\n",
    "diagrams_hkh_01 = hkh.fit_transform(df.smiles_graph)"
   ]
  },
  {
   "cell_type": "code",
   "execution_count": 71,
   "metadata": {},
   "outputs": [],
   "source": [
    "hkh = GeneralFiltrationGraphHomology(time=10, n_jobs=-1)\n",
    "diagrams_hkh_10 = hkh.fit_transform(df.smiles_graph)"
   ]
  },
  {
   "cell_type": "code",
   "execution_count": 48,
   "metadata": {},
   "outputs": [],
   "source": [
    "hkh = GeneralFiltrationGraphHomology(time=1, n_jobs=-1)\n",
    "diagrams_hkh_1 = hkh.fit_transform(df.smiles_graph)"
   ]
  },
  {
   "cell_type": "code",
   "execution_count": 72,
   "metadata": {},
   "outputs": [],
   "source": [
    "diagrams_hkh_10[:, :, -1] = diagrams_hkh_10[:, :, -1] + 4\n",
    "diagrams_hkh = np.concatenate([diagrams_hkh_01, diagrams_hkh_10], axis=1)"
   ]
  },
  {
   "cell_type": "markdown",
   "metadata": {},
   "source": [
    "Note that the HKS agorithm gives as output 4 subdiagrams that for seek of simplicity we encoded in the giotto-framework in the same way as different homology dimensions!"
   ]
  },
  {
   "cell_type": "code",
   "execution_count": 11,
   "metadata": {},
   "outputs": [
    {
     "data": {
      "text/plain": [
       "1484"
      ]
     },
     "execution_count": 11,
     "metadata": {},
     "output_type": "execute_result"
    }
   ],
   "source": [
    "len(df)"
   ]
  },
  {
   "cell_type": "code",
   "execution_count": 12,
   "metadata": {},
   "outputs": [
    {
     "data": {
      "text/plain": [
       "0.07547169811320754"
      ]
     },
     "execution_count": 12,
     "metadata": {},
     "output_type": "execute_result"
    }
   ],
   "source": [
    "df.CT_TOX.mean()"
   ]
  },
  {
   "cell_type": "markdown",
   "metadata": {},
   "source": [
    "The dataset is highly unbalanced, with 92.5% of the molcules that are safe drugs and only 7.5% of them labeled as toxic. Thus, the accuracy is not a good metric for this kind of tasks, and for this reason we chose to use the AUC-ROC metric as measure of the performance of our model."
   ]
  },
  {
   "cell_type": "code",
   "execution_count": 45,
   "metadata": {},
   "outputs": [
    {
     "name": "stdout",
     "output_type": "stream",
     "text": [
      "[0 1 2]\n"
     ]
    },
    {
     "data": {
      "image/png": "[encoded data removed]",
      "text/plain": [
       "<Figure size 432x288 with 1 Axes>"
      ]
     },
     "metadata": {
      "needs_background": "light"
     },
     "output_type": "display_data"
    }
   ],
   "source": [
    "plot_diagram(diagrams_hkh_1[0])"
   ]
  },
  {
   "cell_type": "markdown",
   "metadata": {},
   "source": [
    "The picture above represents an exemple of diagram used for feeding ATOL. The HKS algorithm gives as output 4 subdiagrams. Note that in the plot we used the terminology dim0, dim1, dim2, dim3 only in order to distinguish the four subplots. They are not to be considered as Homology dimensions in the real TDA meaning!"
   ]
  },
  {
   "cell_type": "code",
   "execution_count": null,
   "metadata": {},
   "outputs": [],
   "source": [
    "def add_chemical_info(smiles):\n",
    "    stereo = np.zeros(3)\n",
    "    for char in smiles:\n",
    "        if char in '/':\n",
    "            stereo[0] +=1\n",
    "        if char in '@':\n",
    "            stereo[2] += 1\n",
    "        if char in '\\\\':\n",
    "            stereo[1] += 1\n",
    "    chemical_el = 'B C N O P S F Cl Br I * b c n o s p'.split()\n",
    "    chemicals = np.zeros(len(chemical_el))\n",
    "    smiles = '|'+smiles+'|'\n",
    "    for i, el in enumerate(chemical_el):\n",
    "        if el != 'C':\n",
    "            chemicals[i] += len(smiles.split(el)) - 1\n",
    "        else:\n",
    "            chemicals[i] += len(''.join(smiles.split('Cl')).split(el)) - 1\n",
    "    return np.concatenate([chemicals, stereo])"
   ]
  },
  {
   "cell_type": "code",
   "execution_count": null,
   "metadata": {},
   "outputs": [],
   "source": [
    "df['chemistry'] = df.smiles.apply(add_chemical_info)"
   ]
  },
  {
   "cell_type": "code",
   "execution_count": null,
   "metadata": {},
   "outputs": [],
   "source": [
    "df.head()"
   ]
  },
  {
   "cell_type": "markdown",
   "metadata": {},
   "source": [
    "## We split the dataset in train and test"
   ]
  },
  {
   "cell_type": "code",
   "execution_count": 128,
   "metadata": {},
   "outputs": [],
   "source": [
    "diag_train, diag_test, ext_feat_train, ext_feat_test, y_train, y_test = train_test_split(diagrams_hkh, df.chemistry, \n",
    "                                                                                         df.CT_TOX, test_size=0.2,\n",
    "                                                                                         random_state=52, \n",
    "                                                                                        )"
   ]
  },
  {
   "cell_type": "markdown",
   "metadata": {},
   "source": [
    "## Cross Validation for Simple Atol usage"
   ]
  },
  {
   "cell_type": "code",
   "execution_count": 103,
   "metadata": {},
   "outputs": [],
   "source": [
    "def cross_validate(parameters, X, y, k_fold=5, **atol_params):\n",
    "    set_up = []\n",
    "    for parameter in parameters:\n",
    "        pipeline_model = Pipeline([('atol_layer', Atol(parameter, **atol_params)), \n",
    "                                   ('model', RandomForestClassifier(n_estimators=100))])\n",
    "        set_up.append((parameter, cross_val_score(pipeline_model, X, y, scoring='roc_auc', cv=k_fold)))\n",
    "    return set_up"
   ]
  },
  {
   "cell_type": "markdown",
   "metadata": {},
   "source": [
    "We get a 5-fold cross validation accuracy estimation for the simpler model using ATOL! Note in this exemple only notions about the structure of the molecules are used! **No chemical info**"
   ]
  },
  {
   "cell_type": "code",
   "execution_count": 129,
   "metadata": {},
   "outputs": [],
   "source": [
    "cv_res_hkh = cross_validate(np.arange(1, 25).astype(int), diag_train, y_train, \n",
    "                            5, padding=0, ignore_hom_dim=False)"
   ]
  },
  {
   "cell_type": "code",
   "execution_count": 130,
   "metadata": {},
   "outputs": [
    {
     "data": {
      "image/png": "[encoded data removed]",
      "text/plain": [
       "<Figure size 432x288 with 1 Axes>"
      ]
     },
     "metadata": {
      "needs_background": "light"
     },
     "output_type": "display_data"
    }
   ],
   "source": [
    "cv_res_mean_hkh = [(x, y.mean()) for x, y in cv_res_hkh]\n",
    "plt.plot([x[0] for x in cv_res_mean_hkh], [x[1] for x in cv_res_mean_hkh])\n",
    "plt.xlabel('ATOL_param')\n",
    "plt.ylabel('AUC-ROC')\n",
    "plt.show()"
   ]
  },
  {
   "cell_type": "markdown",
   "metadata": {},
   "source": [
    "The best ATOL parameter according to the 5-fold cross validation is n_centers=16"
   ]
  },
  {
   "cell_type": "code",
   "execution_count": 131,
   "metadata": {},
   "outputs": [],
   "source": [
    "best_parameter = np.arange(1, 25).astype(int)[np.argmax([x[1] for x in cv_res_mean_hkh])]\n",
    "best_model = Pipeline([('atol_layer', Atol(best_parameter, padding=0, ignore_hom_dim=False)), \n",
    "                       ('model', RandomForestClassifier(n_estimators=100))])\n",
    "best_model.fit(diag_train, y_train)\n",
    "test_accuracy = roc_auc_score(y_test, best_model.predict(diag_test))"
   ]
  },
  {
   "cell_type": "code",
   "execution_count": 132,
   "metadata": {},
   "outputs": [
    {
     "data": {
      "text/plain": [
       "0.5191489361702127"
      ]
     },
     "execution_count": 132,
     "metadata": {},
     "output_type": "execute_result"
    }
   ],
   "source": [
    "test_accuracy"
   ]
  },
  {
   "cell_type": "markdown",
   "metadata": {},
   "source": [
    "## Features for more complex Atol usage"
   ]
  },
  {
   "cell_type": "code",
   "execution_count": 57,
   "metadata": {},
   "outputs": [],
   "source": [
    "from sklearn.base import BaseEstimator, TransformerMixin, ClusterMixin\n",
    "from atol import lapl_feats\n",
    "\n",
    "class AtolX(BaseEstimator, ClusterMixin, TransformerMixin):\n",
    "    def __init__(self, n_centers=5, cluster_model=None, method=lapl_feats, aggreg=np.sum, order=None,\n",
    "                 ignore_hom_dim=False, padding=None, external=True, n_jobs=None):\n",
    "        self.atol = Atol(n_centers, cluster_model, method, aggreg, order, \n",
    "                         ignore_hom_dim, padding, n_jobs)\n",
    "        self.external = external\n",
    "    \n",
    "    def fit(self, X, y=None):\n",
    "        if self.external:\n",
    "            ex = np.array([x[1] for x in X])\n",
    "            X = np.array([x[0] for x in X])\n",
    "        self.atol.fit(X, y)\n",
    "        return self\n",
    "    \n",
    "    def transform(self, X, y=None):\n",
    "        if self.external:\n",
    "            ex = np.array([x[1] for x in X])\n",
    "            X = np.array([x[0] for x in X])\n",
    "        Xt = self.atol.transform(X, y)\n",
    "        return np.concatenate([ex, Xt], axis=1)\n",
    "    \n",
    "    def get_params(self, **params):\n",
    "        atol_params = self.atol.get_params(**params)\n",
    "        atol_params['external'] = self.external\n",
    "        return atol_params"
   ]
  },
  {
   "cell_type": "code",
   "execution_count": 58,
   "metadata": {},
   "outputs": [],
   "source": [
    "def cross_validate_with_ext(parameters, X, y, k_fold=5, **atol_params):\n",
    "    set_up = []\n",
    "    for parameter in parameters:\n",
    "        pipeline_model = Pipeline([('atol_layer', AtolX(n_centers=parameter, **atol_params)),\n",
    "                                   ('model', GradientBoostingClassifier(n_estimators=100))])\n",
    "        set_up.append((parameter, cross_val_score(pipeline_model, X, y, scoring='roc_auc', cv=k_fold)))\n",
    "    return set_up"
   ]
  },
  {
   "cell_type": "code",
   "execution_count": 133,
   "metadata": {},
   "outputs": [],
   "source": [
    "external_diags_train = [(diag, ex) for diag, ex in zip(diag_train, ext_feat_train)]"
   ]
  },
  {
   "cell_type": "code",
   "execution_count": 134,
   "metadata": {},
   "outputs": [],
   "source": [
    "external_diags_test = [(diag, ex) for diag, ex in zip(diag_test, ext_feat_test)]"
   ]
  },
  {
   "cell_type": "code",
   "execution_count": 135,
   "metadata": {
    "scrolled": true
   },
   "outputs": [],
   "source": [
    "cv_res_hkh = cross_validate_with_ext(np.arange(1, 25).astype(int), external_diags_train, y_train, \n",
    "                                     5, padding=0, ignore_hom_dim=False)"
   ]
  },
  {
   "cell_type": "code",
   "execution_count": 136,
   "metadata": {},
   "outputs": [
    {
     "data": {
      "image/png": "[encoded data removed]",
      "text/plain": [
       "<Figure size 432x288 with 1 Axes>"
      ]
     },
     "metadata": {
      "needs_background": "light"
     },
     "output_type": "display_data"
    }
   ],
   "source": [
    "cv_res_mean_hkh = [(x, y.mean()) for x, y in cv_res_hkh]\n",
    "plt.plot([x[0] for x in cv_res_mean_hkh], [x[1] for x in cv_res_mean_hkh])\n",
    "plt.xlabel('n_centers')\n",
    "plt.ylabel('AUC-ROC')\n",
    "plt.savefig('cv_output.png')\n",
    "plt.show()"
   ]
  },
  {
   "cell_type": "code",
   "execution_count": 141,
   "metadata": {},
   "outputs": [],
   "source": [
    "best_parameter = np.arange(1, 25).astype(int)[np.argmax([x[1] for x in cv_res_mean_hkh])]\n",
    "best_model = Pipeline([('atol_layer', AtolX(best_parameter, padding=0, ignore_hom_dim=False)), \n",
    "                       ('model', GradientBoostingClassifier(n_estimators=100))])\n",
    "best_model.fit(external_diags_train, y_train)\n",
    "test_accuracy = roc_auc_score(y_test, best_model.predict_proba(external_diags_test)[:, 1])"
   ]
  },
  {
   "cell_type": "code",
   "execution_count": 142,
   "metadata": {},
   "outputs": [
    {
     "data": {
      "text/plain": [
       "0.9761229314420804"
      ]
     },
     "execution_count": 142,
     "metadata": {},
     "output_type": "execute_result"
    }
   ],
   "source": [
    "test_accuracy"
   ]
  },
  {
   "cell_type": "markdown",
   "metadata": {},
   "source": [
    "## only using classical features"
   ]
  },
  {
   "cell_type": "code",
   "execution_count": 205,
   "metadata": {},
   "outputs": [],
   "source": [
    "X_tot = np.concatenate([x.reshape(1, -1) for x in df.chemistry], axis=0)"
   ]
  },
  {
   "cell_type": "code",
   "execution_count": 206,
   "metadata": {},
   "outputs": [
    {
     "data": {
      "text/plain": [
       "(1484, 20)"
      ]
     },
     "execution_count": 206,
     "metadata": {},
     "output_type": "execute_result"
    }
   ],
   "source": [
    "X_tot.shape"
   ]
  },
  {
   "cell_type": "code",
   "execution_count": 207,
   "metadata": {},
   "outputs": [],
   "source": [
    "model = GradientBoostingClassifier(n_estimators=100)"
   ]
  },
  {
   "cell_type": "code",
   "execution_count": 208,
   "metadata": {},
   "outputs": [],
   "source": [
    "cv_out = cross_val_score(model, X_tot, df.CT_TOX, scoring='roc_auc', cv=5)"
   ]
  },
  {
   "cell_type": "code",
   "execution_count": 209,
   "metadata": {},
   "outputs": [
    {
     "data": {
      "text/plain": [
       "0.9582115345777676"
      ]
     },
     "execution_count": 209,
     "metadata": {},
     "output_type": "execute_result"
    }
   ],
   "source": [
    "np.mean(cv_out)"
   ]
  },
  {
   "cell_type": "code",
   "execution_count": null,
   "metadata": {},
   "outputs": [],
   "source": []
  }
 ],
 "metadata": {
  "kernelspec": {
   "display_name": "Python 3",
   "language": "python",
   "name": "python3"
  },
  "language_info": {
   "codemirror_mode": {
    "name": "ipython",
    "version": 3
   },
   "file_extension": ".py",
   "mimetype": "text/x-python",
   "name": "python",
   "nbconvert_exporter": "python",
   "pygments_lexer": "ipython3",
   "version": "3.7.4"
  }
 },
 "nbformat": 4,
 "nbformat_minor": 2
}
